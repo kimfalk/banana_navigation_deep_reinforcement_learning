{
 "cells": [
  {
   "cell_type": "markdown",
   "metadata": {},
   "source": [
    "# Navigation\n",
    "\n",
    "---\n",
    "\n",
    "In the following we will train a Double Q-learning agent to _solve_ the unity banana environment. We will start out starting the environment, then just have a run of random actions. \n",
    "Then move on to train the double DQN (Double Q-learning agent), by simulating it in the banana environment. \n",
    "\n",
    "The training is set to continue for 2000 episodes or until the average reward for a 100 episodes is above 13, in which case the agent is said to solve the environment. \n",
    "\n",
    "In the following we will: \n",
    "1. Start the environment - load the unity environment, ready to simulate\n",
    "2. Examine the State and Action Spaces - have a look at the environment. \n",
    "3. Train the Double DQN agent - initialize and train our RL agent in the unity environment.\n",
    "\n",
    "### 1. Start the Environment\n",
    "\n",
    "Run the next code cell to install a few packages.  This line will take a few minutes to run! (This assumes that the instructions in the README.md was follwed). "
   ]
  },
  {
   "cell_type": "code",
   "execution_count": 1,
   "metadata": {},
   "outputs": [],
   "source": [
    "#!pip -q install ./python"
   ]
  },
  {
   "cell_type": "markdown",
   "metadata": {},
   "source": [
    "The environment is already saved in the Workspace and can be accessed at the file path provided below.  Please run the next code cell without making any changes."
   ]
  },
  {
   "cell_type": "code",
   "execution_count": 2,
   "metadata": {},
   "outputs": [
    {
     "name": "stderr",
     "output_type": "stream",
     "text": [
      "INFO:unityagents:\n",
      "'Academy' started successfully!\n",
      "Unity Academy name: Academy\n",
      "        Number of Brains: 1\n",
      "        Number of External Brains : 1\n",
      "        Lesson number : 0\n",
      "        Reset Parameters :\n",
      "\t\t\n",
      "Unity brain name: BananaBrain\n",
      "        Number of Visual Observations (per agent): 0\n",
      "        Vector Observation space type: continuous\n",
      "        Vector Observation space size (per agent): 37\n",
      "        Number of stacked Vector Observation: 1\n",
      "        Vector Action space type: discrete\n",
      "        Vector Action space size (per agent): 4\n",
      "        Vector Action descriptions: , , , \n"
     ]
    }
   ],
   "source": [
    "from unityagents import UnityEnvironment\n",
    "import numpy as np\n",
    "\n",
    "# please do not modify the line below\n",
    "env = UnityEnvironment(file_name=\"data/Banana\")"
   ]
  },
  {
   "cell_type": "markdown",
   "metadata": {},
   "source": [
    "Environments contain **_brains_** which are responsible for deciding the actions of their associated agents. Here we check for the first brain available, and set it as the default brain we will be controlling from Python."
   ]
  },
  {
   "cell_type": "code",
   "execution_count": 3,
   "metadata": {},
   "outputs": [],
   "source": [
    "# get the default brain\n",
    "brain_name = env.brain_names[0]\n",
    "brain = env.brains[brain_name]"
   ]
  },
  {
   "cell_type": "markdown",
   "metadata": {},
   "source": [
    "### 2. Examine the State and Action Spaces\n",
    "\n",
    "Run the code cell below to print some information about the environment."
   ]
  },
  {
   "cell_type": "code",
   "execution_count": 4,
   "metadata": {},
   "outputs": [
    {
     "name": "stdout",
     "output_type": "stream",
     "text": [
      "Number of agents: 1\n",
      "Number of actions: 4\n",
      "States look like: [1.         0.         0.         0.         0.84408134 0.\n",
      " 0.         1.         0.         0.0748472  0.         1.\n",
      " 0.         0.         0.25755    1.         0.         0.\n",
      " 0.         0.74177343 0.         1.         0.         0.\n",
      " 0.25854847 0.         0.         1.         0.         0.09355672\n",
      " 0.         1.         0.         0.         0.31969345 0.\n",
      " 0.        ]\n",
      "States have length: 37\n"
     ]
    }
   ],
   "source": [
    "# reset the environment\n",
    "env_info = env.reset(train_mode=True)[brain_name]\n",
    "\n",
    "# number of agents in the environment\n",
    "print('Number of agents:', len(env_info.agents))\n",
    "\n",
    "# number of actions\n",
    "action_size = brain.vector_action_space_size\n",
    "print('Number of actions:', action_size)\n",
    "\n",
    "# examine the state space \n",
    "state = env_info.vector_observations[0]\n",
    "print('States look like:', state)\n",
    "state_size = len(state)\n",
    "print('States have length:', state_size)"
   ]
  },
  {
   "cell_type": "markdown",
   "metadata": {},
   "source": [
    "### 3. Train the Double DQN agent!\n",
    "\n",
    "The implementation of the agent is found in the `dqn_agent.py` file in the same folder, it uses the pytorch model defined in `model.py` and replay memory implemented in `replay_memory.py`.\n",
    "\n",
    "First import the modules mentioned above, alont with (Py)torch. Then we set a list of hyper parameters, which help define the agent we will train. "
   ]
  },
  {
   "cell_type": "code",
   "execution_count": 5,
   "metadata": {},
   "outputs": [],
   "source": [
    "from dqn_agent import DqnAgent\n",
    "from replay_memory import ReplayMemory\n",
    "from collections import deque\n",
    "\n",
    "import torch\n",
    "\n",
    "LR = 5e-4            # Neural network learning rate. \n",
    "BUFFER_SIZE = 30000  # replay memory size\n",
    "BATCH_SIZE = 64      # minibatch size\n",
    "GAMMA = 0.99         # discount factor\n",
    "TAU = 1e-3           # for soft update of target parameters\n",
    "UPDATE_EVERY = 3     # how often should the network be updated.\n",
    "\n",
    "SEED = 42            # seed for the random module, such that we can repeat the experiment. \n",
    "\n",
    "n_episodes=2000      # max number of episodes.\n",
    "max_t=1000           # max number of steps in an episode. \n",
    "eps_start=1.0        # Epsilon to start out with. This means 100% exploration in the beginning\n",
    "eps_end=0.1          # Epsilon we will end with. After a while the agent will only explore 10% of the time\n",
    "eps_decay=0.99       # indicates how quickly epsilon should go to the end espilon\n",
    "alpha=0.6            # learning rate\n",
    "beta0=0.1            # Anneiling rate\n",
    "beta_rate=0.99992    # decay of anealing. "
   ]
  },
  {
   "cell_type": "markdown",
   "metadata": {},
   "source": [
    "First we create the agent, using the parameters defined above. The agent creates two networks which are defined to have 2 layers with 64 hidden notes each. "
   ]
  },
  {
   "cell_type": "code",
   "execution_count": 6,
   "metadata": {},
   "outputs": [],
   "source": [
    "agent = DqnAgent(state_size,\n",
    "                 action_size,\n",
    "                 ReplayMemory(action_size, BUFFER_SIZE, BATCH_SIZE, SEED, alpha, beta0, beta_rate),\n",
    "                 SEED)\n",
    "env_info = env.reset(train_mode=True)[brain_name] # reset the environment"
   ]
  },
  {
   "cell_type": "markdown",
   "metadata": {},
   "source": [
    "To simulate the agent collecting bananas run the following cell. "
   ]
  },
  {
   "cell_type": "code",
   "execution_count": 7,
   "metadata": {},
   "outputs": [
    {
     "name": "stdout",
     "output_type": "stream",
     "text": [
      "Episode 100\tAverage Score: 1.32 \tbeta: 0.22\taction_value: 0.25\n",
      "Episode 200\tAverage Score: 6.90 \tbeta: 0.49\taction_value: 1.004\n",
      "Episode 300\tAverage Score: 12.96 \tbeta: 1.00\taction_value: 1.61\n",
      "Episode 301\tAverage Score: 13.01 \tbeta: 1.00\taction_value: 0.82\n",
      "Environment solved in 201 episodes!\tAverage Score: 13.01\n"
     ]
    }
   ],
   "source": [
    "scores = []\n",
    "scores_window = deque(maxlen=100)\n",
    "epsilon = eps_start\n",
    "\n",
    "for i_episode in range(1, n_episodes + 1):\n",
    "\n",
    "    env_info = env.reset(train_mode=True)[brain_name]\n",
    "    state = env_info.vector_observations[0]\n",
    "    score = 0\n",
    "    action_values = np.zeros(1)\n",
    "\n",
    "    for t in range(max_t):\n",
    "\n",
    "        action, action_values = agent.act(state, epsilon)\n",
    "\n",
    "        env_info = env.step(action)[brain_name]  # send the action to the environment\n",
    "        next_state = env_info.vector_observations[0]  # get the next state\n",
    "        reward = env_info.rewards[0]  # get the reward\n",
    "        done = env_info.local_done[0]  # get the done status\n",
    "\n",
    "        agent.step(state, action, reward, next_state, done)\n",
    "\n",
    "        state = next_state\n",
    "        score += reward\n",
    "\n",
    "        if done:\n",
    "            break\n",
    "\n",
    "    scores_window.append(score)\n",
    "    scores.append(score)\n",
    "\n",
    "    epsilon = max(eps_end, epsilon * eps_decay)\n",
    "\n",
    "    log_str = '\\rEpisode {}\\tAverage Score: {:.2f} \\tbeta: {:.2f}\\taction_value: {:.2f}'\n",
    "    print(log_str.format(i_episode, np.mean(scores_window), agent.memory.beta, action_values.mean()), end=\"\")\n",
    "\n",
    "    if i_episode % 100 == 0:\n",
    "        print('\\rEpisode {}\\tAverage Score: {:.2f}'.format(i_episode, np.mean(scores_window)))\n",
    "    if np.mean(scores_window) >= 13.0:\n",
    "        print('\\nEnvironment solved in {:d} episodes!\\tAverage Score: {:.2f}'.format(i_episode - 100,\n",
    "                                                                                     np.mean(scores_window)))\n",
    "        torch.save(agent.qnet_local.state_dict(), 'checkpoint.pth')\n",
    "        break"
   ]
  },
  {
   "cell_type": "markdown",
   "metadata": {},
   "source": [
    "The training terminated after 201 episodes with which means that for the last 100 episodes the agent\n",
    "on average recieved more than 12 in reward. The following plot shows how the rewards was distributed. \n"
   ]
  },
  {
   "cell_type": "code",
   "execution_count": 10,
   "metadata": {},
   "outputs": [
    {
     "data": {
      "image/png": "[encoded data removed]",
      "text/plain": [
       "<Figure size 432x288 with 1 Axes>"
      ]
     },
     "metadata": {
      "needs_background": "light"
     },
     "output_type": "display_data"
    }
   ],
   "source": [
    "import matplotlib.pyplot as plt\n",
    "%matplotlib inline\n",
    "\n",
    "plt.plot(scores)\n",
    "plt.ylabel('rewards')\n",
    "plt.show()\n"
   ]
  },
  {
   "cell_type": "code",
   "execution_count": null,
   "metadata": {},
   "outputs": [],
   "source": []
  }
 ],
 "metadata": {
  "kernelspec": {
   "display_name": "Python 3",
   "language": "python",
   "name": "python3"
  },
  "language_info": {
   "codemirror_mode": {
    "name": "ipython",
    "version": 3
   },
   "file_extension": ".py",
   "mimetype": "text/x-python",
   "name": "python",
   "nbconvert_exporter": "python",
   "pygments_lexer": "ipython3",
   "version": "3.7.4"
  }
 },
 "nbformat": 4,
 "nbformat_minor": 2
}
